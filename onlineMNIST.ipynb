{
 "cells": [
  {
   "cell_type": "code",
   "execution_count": 13,
   "metadata": {},
   "outputs": [
    {
     "data": {
      "text/plain": [
       "device(type='cpu')"
      ]
     },
     "execution_count": 13,
     "metadata": {},
     "output_type": "execute_result"
    }
   ],
   "source": [
    "import torch\n",
    "# Device configuration\n",
    "device = torch.device('cuda' if torch.cuda.is_available() else 'cpu')\n",
    "device\n"
   ]
  },
  {
   "cell_type": "code",
   "execution_count": 14,
   "metadata": {},
   "outputs": [],
   "source": [
    "from torchvision import datasets\n",
    "from torchvision.transforms import ToTensor\n",
    "train_data = datasets.MNIST(\n",
    "    root = 'data',\n",
    "    train = True,                         \n",
    "    transform = ToTensor(), \n",
    "    download = True,            \n",
    ")\n",
    "test_data = datasets.MNIST(\n",
    "    root = 'data', \n",
    "    train = False, \n",
    "    transform = ToTensor()\n",
    ")"
   ]
  },
  {
   "cell_type": "code",
   "execution_count": 15,
   "metadata": {},
   "outputs": [
    {
     "data": {
      "text/plain": [
       "{'train': <torch.utils.data.dataloader.DataLoader at 0x1cf9d62d4c0>,\n",
       " 'test': <torch.utils.data.dataloader.DataLoader at 0x1cf9d7bbac0>}"
      ]
     },
     "execution_count": 15,
     "metadata": {},
     "output_type": "execute_result"
    }
   ],
   "source": [
    "from torch.utils.data import DataLoader\n",
    "loaders = {\n",
    "    'train' : torch.utils.data.DataLoader(train_data, \n",
    "                                          batch_size=100, \n",
    "                                          shuffle=True, \n",
    "                                          num_workers=1),\n",
    "    \n",
    "    'test'  : torch.utils.data.DataLoader(test_data, \n",
    "                                          batch_size=100, \n",
    "                                          shuffle=True, \n",
    "                                          num_workers=1),\n",
    "}\n",
    "loaders"
   ]
  },
  {
   "cell_type": "code",
   "execution_count": 16,
   "metadata": {},
   "outputs": [
    {
     "name": "stdout",
     "output_type": "stream",
     "text": [
      "CNN(\n",
      "  (conv1): Sequential(\n",
      "    (0): Conv2d(1, 16, kernel_size=(5, 5), stride=(1, 1), padding=(2, 2))\n",
      "    (1): ReLU()\n",
      "    (2): MaxPool2d(kernel_size=2, stride=2, padding=0, dilation=1, ceil_mode=False)\n",
      "  )\n",
      "  (conv2): Sequential(\n",
      "    (0): Conv2d(16, 32, kernel_size=(5, 5), stride=(1, 1), padding=(2, 2))\n",
      "    (1): ReLU()\n",
      "    (2): MaxPool2d(kernel_size=2, stride=2, padding=0, dilation=1, ceil_mode=False)\n",
      "  )\n",
      "  (out): Linear(in_features=1568, out_features=10, bias=True)\n",
      ")\n"
     ]
    },
    {
     "data": {
      "text/plain": [
       "Adam (\n",
       "Parameter Group 0\n",
       "    amsgrad: False\n",
       "    betas: (0.9, 0.999)\n",
       "    capturable: False\n",
       "    differentiable: False\n",
       "    eps: 1e-08\n",
       "    foreach: None\n",
       "    fused: False\n",
       "    lr: 0.01\n",
       "    maximize: False\n",
       "    weight_decay: 0\n",
       ")"
      ]
     },
     "execution_count": 16,
     "metadata": {},
     "output_type": "execute_result"
    }
   ],
   "source": [
    "import torch.nn as nn\n",
    "class CNN(nn.Module):\n",
    "    def __init__(self):\n",
    "        super(CNN, self).__init__()\n",
    "        self.conv1 = nn.Sequential(         \n",
    "            nn.Conv2d(\n",
    "                in_channels=1,              \n",
    "                out_channels=16,            \n",
    "                kernel_size=5,              \n",
    "                stride=1,                   \n",
    "                padding=2,                  \n",
    "            ),                              \n",
    "            nn.ReLU(),                      \n",
    "            nn.MaxPool2d(kernel_size=2),    \n",
    "        )\n",
    "        self.conv2 = nn.Sequential(         \n",
    "            nn.Conv2d(16, 32, 5, 1, 2),     \n",
    "            nn.ReLU(),                      \n",
    "            nn.MaxPool2d(2),                \n",
    "        )\n",
    "        # fully connected layer, output 10 classes\n",
    "        self.out = nn.Linear(32 * 7 * 7, 10)\n",
    "    def forward(self, x):\n",
    "        x = self.conv1(x)\n",
    "        x = self.conv2(x)\n",
    "        # flatten the output of conv2 to (batch_size, 32 * 7 * 7)\n",
    "        x = x.view(x.size(0), -1)   \n",
    "        output = self.out(x)\n",
    "        return output, x    # return x for visualization\n",
    "\n",
    "cnn = CNN()\n",
    "print(cnn)\n",
    "\n",
    "loss_func = nn.CrossEntropyLoss()   \n",
    "loss_func\n",
    "\n",
    "from torch import optim\n",
    "optimizer = optim.Adam(cnn.parameters(), lr = 0.01)   \n",
    "optimizer"
   ]
  },
  {
   "cell_type": "code",
   "execution_count": 17,
   "metadata": {},
   "outputs": [
    {
     "name": "stdout",
     "output_type": "stream",
     "text": [
      "Epoch [1/10], Step [100/600], Loss: 0.1881\n",
      "Epoch [1/10], Step [200/600], Loss: 0.1315\n",
      "Epoch [1/10], Step [300/600], Loss: 0.0949\n",
      "Epoch [1/10], Step [400/600], Loss: 0.1304\n",
      "Epoch [1/10], Step [500/600], Loss: 0.1094\n",
      "Epoch [1/10], Step [600/600], Loss: 0.1024\n",
      "Epoch [2/10], Step [100/600], Loss: 0.0288\n",
      "Epoch [2/10], Step [200/600], Loss: 0.0714\n",
      "Epoch [2/10], Step [300/600], Loss: 0.0159\n",
      "Epoch [2/10], Step [400/600], Loss: 0.0540\n",
      "Epoch [2/10], Step [500/600], Loss: 0.0379\n",
      "Epoch [2/10], Step [600/600], Loss: 0.1152\n",
      "Epoch [3/10], Step [100/600], Loss: 0.0255\n",
      "Epoch [3/10], Step [200/600], Loss: 0.0466\n",
      "Epoch [3/10], Step [300/600], Loss: 0.0162\n",
      "Epoch [3/10], Step [400/600], Loss: 0.0276\n",
      "Epoch [3/10], Step [500/600], Loss: 0.0450\n",
      "Epoch [3/10], Step [600/600], Loss: 0.0185\n",
      "Epoch [4/10], Step [100/600], Loss: 0.0227\n",
      "Epoch [4/10], Step [200/600], Loss: 0.0121\n",
      "Epoch [4/10], Step [300/600], Loss: 0.0598\n",
      "Epoch [4/10], Step [400/600], Loss: 0.0647\n",
      "Epoch [4/10], Step [500/600], Loss: 0.1176\n",
      "Epoch [4/10], Step [600/600], Loss: 0.1107\n",
      "Epoch [5/10], Step [100/600], Loss: 0.0670\n",
      "Epoch [5/10], Step [200/600], Loss: 0.0602\n",
      "Epoch [5/10], Step [300/600], Loss: 0.0110\n",
      "Epoch [5/10], Step [400/600], Loss: 0.0515\n",
      "Epoch [5/10], Step [500/600], Loss: 0.0524\n",
      "Epoch [5/10], Step [600/600], Loss: 0.0308\n",
      "Epoch [6/10], Step [100/600], Loss: 0.0231\n",
      "Epoch [6/10], Step [200/600], Loss: 0.0254\n",
      "Epoch [6/10], Step [300/600], Loss: 0.0563\n",
      "Epoch [6/10], Step [400/600], Loss: 0.0126\n",
      "Epoch [6/10], Step [500/600], Loss: 0.0198\n",
      "Epoch [6/10], Step [600/600], Loss: 0.1443\n",
      "Epoch [7/10], Step [100/600], Loss: 0.0064\n",
      "Epoch [7/10], Step [200/600], Loss: 0.0442\n",
      "Epoch [7/10], Step [300/600], Loss: 0.3685\n",
      "Epoch [7/10], Step [400/600], Loss: 0.0223\n",
      "Epoch [7/10], Step [500/600], Loss: 0.0352\n",
      "Epoch [7/10], Step [600/600], Loss: 0.1393\n",
      "Epoch [8/10], Step [100/600], Loss: 0.0084\n",
      "Epoch [8/10], Step [200/600], Loss: 0.0427\n",
      "Epoch [8/10], Step [300/600], Loss: 0.0049\n",
      "Epoch [8/10], Step [400/600], Loss: 0.0642\n",
      "Epoch [8/10], Step [500/600], Loss: 0.0158\n",
      "Epoch [8/10], Step [600/600], Loss: 0.0565\n",
      "Epoch [9/10], Step [100/600], Loss: 0.0394\n",
      "Epoch [9/10], Step [200/600], Loss: 0.0242\n",
      "Epoch [9/10], Step [300/600], Loss: 0.0385\n",
      "Epoch [9/10], Step [400/600], Loss: 0.0253\n",
      "Epoch [9/10], Step [500/600], Loss: 0.0317\n",
      "Epoch [9/10], Step [600/600], Loss: 0.0337\n",
      "Epoch [10/10], Step [100/600], Loss: 0.0713\n",
      "Epoch [10/10], Step [200/600], Loss: 0.0464\n",
      "Epoch [10/10], Step [300/600], Loss: 0.0853\n",
      "Epoch [10/10], Step [400/600], Loss: 0.0649\n",
      "Epoch [10/10], Step [500/600], Loss: 0.0429\n",
      "Epoch [10/10], Step [600/600], Loss: 0.0185\n"
     ]
    }
   ],
   "source": [
    "from torch.autograd import Variable\n",
    "num_epochs = 10\n",
    "def train(num_epochs, cnn, loaders):\n",
    "    \n",
    "    cnn.train()\n",
    "        \n",
    "    # Train the model\n",
    "    total_step = len(loaders['train'])\n",
    "        \n",
    "    for epoch in range(num_epochs):\n",
    "        for i, (images, labels) in enumerate(loaders['train']):\n",
    "            \n",
    "            # gives batch data, normalize x when iterate train_loader\n",
    "            b_x = Variable(images)   # batch x\n",
    "            b_y = Variable(labels)   # batch y\n",
    "            output = cnn(b_x)[0]               \n",
    "            loss = loss_func(output, b_y)\n",
    "            \n",
    "            # clear gradients for this training step   \n",
    "            optimizer.zero_grad()           \n",
    "            \n",
    "            # backpropagation, compute gradients \n",
    "            loss.backward()    \n",
    "            # apply gradients             \n",
    "            optimizer.step()                \n",
    "            \n",
    "            if (i+1) % 100 == 0:\n",
    "                print ('Epoch [{}/{}], Step [{}/{}], Loss: {:.4f}' \n",
    "                       .format(epoch + 1, num_epochs, i + 1, total_step, loss.item()))\n",
    "                pass\n",
    "        \n",
    "        pass\n",
    "    \n",
    "    \n",
    "    pass\n",
    "train(num_epochs, cnn, loaders)"
   ]
  }
 ],
 "metadata": {
  "kernelspec": {
   "display_name": "Python 3.9.5 ('env': venv)",
   "language": "python",
   "name": "python3"
  },
  "language_info": {
   "codemirror_mode": {
    "name": "ipython",
    "version": 3
   },
   "file_extension": ".py",
   "mimetype": "text/x-python",
   "name": "python",
   "nbconvert_exporter": "python",
   "pygments_lexer": "ipython3",
   "version": "3.9.5"
  },
  "orig_nbformat": 4,
  "vscode": {
   "interpreter": {
    "hash": "eb5d223395ffa13ce0bb8900d854bb07b9948fb92b9110105edc4f288e135ea0"
   }
  }
 },
 "nbformat": 4,
 "nbformat_minor": 2
}
